{
 "cells": [
  {
   "cell_type": "code",
   "execution_count": 1,
   "metadata": {
    "ExecuteTime": {
     "end_time": "2024-06-24T13:02:17.790328Z",
     "start_time": "2024-06-24T13:02:17.785291Z"
    },
    "collapsed": true
   },
   "outputs": [],
   "source": [
    "import DGmodel as DG\n",
    "import pandas as pd\n",
    "pd.options.display.float_format = \"{:,.2f}\".format"
   ]
  },
  {
   "cell_type": "markdown",
   "metadata": {},
   "source": [
    "### Setting up DG params and initial state"
   ]
  },
  {
   "cell_type": "code",
   "execution_count": 2,
   "metadata": {
    "ExecuteTime": {
     "end_time": "2024-06-24T13:02:17.991871Z",
     "start_time": "2024-06-24T13:02:17.988452Z"
    },
    "collapsed": false
   },
   "outputs": [],
   "source": [
    "DG_instance_1=DG.DG_instance(\n",
    "    SignallingEscrowMinLockTime=5*60*60,\n",
    "    ProposalExecutionMinTimelock=3*24*60*60,\n",
    "    FirstSealRageQuitSupport=0.01,\n",
    "    SecondSealRageQuitSupport=0.1,\n",
    "    VetoSignallingDeactivationMaxDuration=3*24*60*60,\n",
    "    DynamicTimelockMinDuration=5*24*60*60,\n",
    "    DynamicTimelockMaxDuration=45*24*60*60,\n",
    "    VetoSignallingMinActiveDuration=5*60*60,\n",
    "    RageQuitExtensionDelay=7*24*60*60,\n",
    "    RageQuitEthClaimMinTimelock=60*24*60*60,\n",
    "    RageQuitEthClaimTimelockGrowthStartSeqNumber=0,\n",
    "    RageQuitEthClaimTimelockGrowthCoeffs=[0,1,86400*2],\n",
    "    VetoCooldownDuration=5*60*60\n",
    ")\n",
    "\n",
    "\n",
    "initial_st_eth = 9808927\n",
    "initial_others_staked_eth = 23914309\n",
    "initial_steth_in_opposition = 0\n",
    "\n",
    "\n"
   ]
  },
  {
   "cell_type": "markdown",
   "metadata": {},
   "source": [
    "### Happy path"
   ]
  },
  {
   "cell_type": "code",
   "execution_count": 11,
   "metadata": {},
   "outputs": [],
   "source": [
    "happy_path=DG.simulation(initial_st_eth,initial_others_staked_eth,0)\n",
    "happy_path.generate_events_flow(1722638400,1723156800+86400*365)"
   ]
  },
  {
   "cell_type": "code",
   "execution_count": 12,
   "metadata": {},
   "outputs": [],
   "source": [
    "happy_path.change_opposition_stETH_amount(70000,1722638570)\n",
    "happy_path.change_opposition_stETH_amount(50000,1722639670)\n",
    "happy_path.change_opposition_stETH_amount(130000,1722718680)\n",
    "happy_path.change_opposition_stETH_amount(-250000,1723666372)"
   ]
  },
  {
   "cell_type": "code",
   "execution_count": 13,
   "metadata": {},
   "outputs": [
    {
     "name": "stdout",
     "output_type": "stream",
     "text": [
      "Procesion finished\n"
     ]
    },
    {
     "data": {
      "text/html": [
       "<div>\n",
       "<style scoped>\n",
       "    .dataframe tbody tr th:only-of-type {\n",
       "        vertical-align: middle;\n",
       "    }\n",
       "\n",
       "    .dataframe tbody tr th {\n",
       "        vertical-align: top;\n",
       "    }\n",
       "\n",
       "    .dataframe thead th {\n",
       "        text-align: right;\n",
       "    }\n",
       "</style>\n",
       "<table border=\"1\" class=\"dataframe\">\n",
       "  <thead>\n",
       "    <tr style=\"text-align: right;\">\n",
       "      <th></th>\n",
       "      <th>event</th>\n",
       "      <th>timestamp</th>\n",
       "      <th>end_timestamp</th>\n",
       "      <th>waiting_time</th>\n",
       "    </tr>\n",
       "  </thead>\n",
       "  <tbody>\n",
       "    <tr>\n",
       "      <th>0</th>\n",
       "      <td>enter_veto_signalling</td>\n",
       "      <td>1722639670</td>\n",
       "      <td>1,723,666,370.00</td>\n",
       "      <td>11.88</td>\n",
       "    </tr>\n",
       "    <tr>\n",
       "      <th>1</th>\n",
       "      <td>enter_veto_deactivation</td>\n",
       "      <td>1723666370</td>\n",
       "      <td>1,723,925,570.00</td>\n",
       "      <td>3.00</td>\n",
       "    </tr>\n",
       "    <tr>\n",
       "      <th>2</th>\n",
       "      <td>enter_veto_cooldown</td>\n",
       "      <td>1723925570</td>\n",
       "      <td>1,723,943,570.00</td>\n",
       "      <td>0.21</td>\n",
       "    </tr>\n",
       "    <tr>\n",
       "      <th>3</th>\n",
       "      <td>enter_normal_state</td>\n",
       "      <td>1723943570</td>\n",
       "      <td>NaN</td>\n",
       "      <td>NaN</td>\n",
       "    </tr>\n",
       "  </tbody>\n",
       "</table>\n",
       "</div>"
      ],
      "text/plain": [
       "                     event   timestamp    end_timestamp  waiting_time\n",
       "0    enter_veto_signalling  1722639670 1,723,666,370.00         11.88\n",
       "1  enter_veto_deactivation  1723666370 1,723,925,570.00          3.00\n",
       "2      enter_veto_cooldown  1723925570 1,723,943,570.00          0.21\n",
       "3       enter_normal_state  1723943570              NaN           NaN"
      ]
     },
     "execution_count": 13,
     "metadata": {},
     "output_type": "execute_result"
    }
   ],
   "source": [
    "DG_instance_1.reset_dg_instance()\n",
    "DG_instance_1.process_simulation(happy_path)\n",
    "DG_instance_1.show_log()"
   ]
  },
  {
   "cell_type": "code",
   "execution_count": 14,
   "metadata": {},
   "outputs": [
    {
     "name": "stdout",
     "output_type": "stream",
     "text": [
      "Total waiting time is 15.09 days\n"
     ]
    }
   ],
   "source": [
    "DG_instance_1.show_total_waiting_time()"
   ]
  },
  {
   "cell_type": "markdown",
   "metadata": {},
   "source": [
    "### Rage quit"
   ]
  },
  {
   "cell_type": "code",
   "execution_count": 15,
   "metadata": {},
   "outputs": [],
   "source": [
    "rage_quit = DG.simulation(initial_st_eth,initial_others_staked_eth,0)\n",
    "rage_quit.generate_events_flow(1722638400,1723156800+86400*365)"
   ]
  },
  {
   "cell_type": "code",
   "execution_count": 16,
   "metadata": {},
   "outputs": [],
   "source": [
    "rage_quit.change_opposition_stETH_amount(70000,1722638570)\n",
    "rage_quit.change_opposition_stETH_amount(50000,1722639670)\n",
    "rage_quit.change_opposition_stETH_amount(130000,1722718680)\n",
    "rage_quit.change_opposition_stETH_amount(400000,1722718680+86400*3)\n",
    "rage_quit.change_opposition_stETH_amount(350000,1722718680+86400*5)"
   ]
  },
  {
   "cell_type": "code",
   "execution_count": 17,
   "metadata": {},
   "outputs": [
    {
     "name": "stdout",
     "output_type": "stream",
     "text": [
      "Procesion finished\n"
     ]
    },
    {
     "data": {
      "text/html": [
       "<div>\n",
       "<style scoped>\n",
       "    .dataframe tbody tr th:only-of-type {\n",
       "        vertical-align: middle;\n",
       "    }\n",
       "\n",
       "    .dataframe tbody tr th {\n",
       "        vertical-align: top;\n",
       "    }\n",
       "\n",
       "    .dataframe thead th {\n",
       "        text-align: right;\n",
       "    }\n",
       "</style>\n",
       "<table border=\"1\" class=\"dataframe\">\n",
       "  <thead>\n",
       "    <tr style=\"text-align: right;\">\n",
       "      <th></th>\n",
       "      <th>event</th>\n",
       "      <th>timestamp</th>\n",
       "      <th>end_timestamp</th>\n",
       "      <th>waiting_time</th>\n",
       "    </tr>\n",
       "  </thead>\n",
       "  <tbody>\n",
       "    <tr>\n",
       "      <th>0</th>\n",
       "      <td>enter_veto_signalling</td>\n",
       "      <td>1722639670</td>\n",
       "      <td>1,726,527,670.00</td>\n",
       "      <td>45.00</td>\n",
       "    </tr>\n",
       "    <tr>\n",
       "      <th>1</th>\n",
       "      <td>convert_to_rage_quit</td>\n",
       "      <td>1726527670</td>\n",
       "      <td>1,729,632,470.00</td>\n",
       "      <td>35.94</td>\n",
       "    </tr>\n",
       "    <tr>\n",
       "      <th>2</th>\n",
       "      <td>rage_quit_end</td>\n",
       "      <td>1729632470</td>\n",
       "      <td>1,729,632,470.00</td>\n",
       "      <td>0.00</td>\n",
       "    </tr>\n",
       "    <tr>\n",
       "      <th>3</th>\n",
       "      <td>enter_veto_deactivation</td>\n",
       "      <td>1729632470</td>\n",
       "      <td>1,729,891,670.00</td>\n",
       "      <td>3.00</td>\n",
       "    </tr>\n",
       "    <tr>\n",
       "      <th>4</th>\n",
       "      <td>enter_veto_cooldown</td>\n",
       "      <td>1729891670</td>\n",
       "      <td>1,729,909,670.00</td>\n",
       "      <td>0.21</td>\n",
       "    </tr>\n",
       "    <tr>\n",
       "      <th>5</th>\n",
       "      <td>enter_normal_state</td>\n",
       "      <td>1729909670</td>\n",
       "      <td>NaN</td>\n",
       "      <td>NaN</td>\n",
       "    </tr>\n",
       "  </tbody>\n",
       "</table>\n",
       "</div>"
      ],
      "text/plain": [
       "                     event   timestamp    end_timestamp  waiting_time\n",
       "0    enter_veto_signalling  1722639670 1,726,527,670.00         45.00\n",
       "1     convert_to_rage_quit  1726527670 1,729,632,470.00         35.94\n",
       "2            rage_quit_end  1729632470 1,729,632,470.00          0.00\n",
       "3  enter_veto_deactivation  1729632470 1,729,891,670.00          3.00\n",
       "4      enter_veto_cooldown  1729891670 1,729,909,670.00          0.21\n",
       "5       enter_normal_state  1729909670              NaN           NaN"
      ]
     },
     "execution_count": 17,
     "metadata": {},
     "output_type": "execute_result"
    }
   ],
   "source": [
    "DG_instance_1.reset_dg_instance()\n",
    "DG_instance_1.process_simulation(rage_quit)\n",
    "DG_instance_1.show_log()"
   ]
  },
  {
   "cell_type": "code",
   "execution_count": 18,
   "metadata": {},
   "outputs": [
    {
     "name": "stdout",
     "output_type": "stream",
     "text": [
      "Total waiting time is 84.14 days\n"
     ]
    }
   ],
   "source": [
    "DG_instance_1.show_total_waiting_time()"
   ]
  },
  {
   "cell_type": "code",
   "execution_count": 19,
   "metadata": {},
   "outputs": [
    {
     "name": "stdout",
     "output_type": "stream",
     "text": [
      "Rage quit 1 withdraw timelock is 60.00 days\n"
     ]
    }
   ],
   "source": [
    "DG_instance_1.show_rage_quit_withdraw_timelock()"
   ]
  },
  {
   "cell_type": "markdown",
   "metadata": {},
   "source": [
    "### Several rage quits "
   ]
  },
  {
   "cell_type": "code",
   "execution_count": 20,
   "metadata": {},
   "outputs": [],
   "source": [
    "several_rage_quits = DG.simulation(initial_st_eth,initial_others_staked_eth,0)\n",
    "several_rage_quits.generate_events_flow(1722638400,1723156800+86400*720)"
   ]
  },
  {
   "cell_type": "code",
   "execution_count": 21,
   "metadata": {},
   "outputs": [],
   "source": [
    "several_rage_quits.change_opposition_stETH_amount(70000,1722638570)\n",
    "several_rage_quits.change_opposition_stETH_amount(50000,1722639670)\n",
    "several_rage_quits.change_opposition_stETH_amount(130000,1722718680)\n",
    "several_rage_quits.change_opposition_stETH_amount(400000,1722718680+86400*3)\n",
    "several_rage_quits.change_opposition_stETH_amount(350000,1722718680+86400*5)\n",
    "several_rage_quits.change_opposition_stETH_amount(990000,1729632370)\n",
    "several_rage_quits.change_opposition_stETH_amount(800000,1736765212)\n",
    "several_rage_quits.change_opposition_stETH_amount(800000,1743391345)\n",
    "several_rage_quits.change_opposition_stETH_amount(800000,1750159959)"
   ]
  },
  {
   "cell_type": "code",
   "execution_count": 22,
   "metadata": {},
   "outputs": [
    {
     "name": "stdout",
     "output_type": "stream",
     "text": [
      "Procesion finished\n"
     ]
    },
    {
     "data": {
      "text/html": [
       "<div>\n",
       "<style scoped>\n",
       "    .dataframe tbody tr th:only-of-type {\n",
       "        vertical-align: middle;\n",
       "    }\n",
       "\n",
       "    .dataframe tbody tr th {\n",
       "        vertical-align: top;\n",
       "    }\n",
       "\n",
       "    .dataframe thead th {\n",
       "        text-align: right;\n",
       "    }\n",
       "</style>\n",
       "<table border=\"1\" class=\"dataframe\">\n",
       "  <thead>\n",
       "    <tr style=\"text-align: right;\">\n",
       "      <th></th>\n",
       "      <th>event</th>\n",
       "      <th>timestamp</th>\n",
       "      <th>end_timestamp</th>\n",
       "      <th>waiting_time</th>\n",
       "    </tr>\n",
       "  </thead>\n",
       "  <tbody>\n",
       "    <tr>\n",
       "      <th>0</th>\n",
       "      <td>enter_veto_signalling</td>\n",
       "      <td>1722639670</td>\n",
       "      <td>1,726,527,670.00</td>\n",
       "      <td>45.00</td>\n",
       "    </tr>\n",
       "    <tr>\n",
       "      <th>1</th>\n",
       "      <td>convert_to_rage_quit</td>\n",
       "      <td>1726527670</td>\n",
       "      <td>1,729,632,470.00</td>\n",
       "      <td>35.94</td>\n",
       "    </tr>\n",
       "    <tr>\n",
       "      <th>2</th>\n",
       "      <td>rage_quit_end</td>\n",
       "      <td>1729632470</td>\n",
       "      <td>1,729,632,470.00</td>\n",
       "      <td>0.00</td>\n",
       "    </tr>\n",
       "    <tr>\n",
       "      <th>3</th>\n",
       "      <td>enter_veto_signalling</td>\n",
       "      <td>1729632470</td>\n",
       "      <td>1,733,520,470.00</td>\n",
       "      <td>45.00</td>\n",
       "    </tr>\n",
       "    <tr>\n",
       "      <th>4</th>\n",
       "      <td>convert_to_rage_quit</td>\n",
       "      <td>1733520470</td>\n",
       "      <td>1,736,765,312.00</td>\n",
       "      <td>37.56</td>\n",
       "    </tr>\n",
       "    <tr>\n",
       "      <th>5</th>\n",
       "      <td>rage_quit_end</td>\n",
       "      <td>1736765312</td>\n",
       "      <td>1,736,765,312.00</td>\n",
       "      <td>0.00</td>\n",
       "    </tr>\n",
       "    <tr>\n",
       "      <th>6</th>\n",
       "      <td>enter_veto_signalling</td>\n",
       "      <td>1736765312</td>\n",
       "      <td>1,740,653,312.00</td>\n",
       "      <td>45.00</td>\n",
       "    </tr>\n",
       "    <tr>\n",
       "      <th>7</th>\n",
       "      <td>convert_to_rage_quit</td>\n",
       "      <td>1740653312</td>\n",
       "      <td>1,743,391,445.00</td>\n",
       "      <td>31.69</td>\n",
       "    </tr>\n",
       "    <tr>\n",
       "      <th>8</th>\n",
       "      <td>rage_quit_end</td>\n",
       "      <td>1743391445</td>\n",
       "      <td>1,743,391,445.00</td>\n",
       "      <td>0.00</td>\n",
       "    </tr>\n",
       "    <tr>\n",
       "      <th>9</th>\n",
       "      <td>enter_veto_signalling</td>\n",
       "      <td>1743391445</td>\n",
       "      <td>1,747,279,445.00</td>\n",
       "      <td>45.00</td>\n",
       "    </tr>\n",
       "    <tr>\n",
       "      <th>10</th>\n",
       "      <td>convert_to_rage_quit</td>\n",
       "      <td>1747279445</td>\n",
       "      <td>1,750,169,959.00</td>\n",
       "      <td>33.46</td>\n",
       "    </tr>\n",
       "    <tr>\n",
       "      <th>11</th>\n",
       "      <td>rage_quit_end</td>\n",
       "      <td>1750169959</td>\n",
       "      <td>1,750,169,959.00</td>\n",
       "      <td>0.00</td>\n",
       "    </tr>\n",
       "    <tr>\n",
       "      <th>12</th>\n",
       "      <td>enter_veto_signalling</td>\n",
       "      <td>1750169959</td>\n",
       "      <td>1,754,057,959.00</td>\n",
       "      <td>45.00</td>\n",
       "    </tr>\n",
       "    <tr>\n",
       "      <th>13</th>\n",
       "      <td>convert_to_rage_quit</td>\n",
       "      <td>1754057959</td>\n",
       "      <td>1,756,948,473.00</td>\n",
       "      <td>33.46</td>\n",
       "    </tr>\n",
       "    <tr>\n",
       "      <th>14</th>\n",
       "      <td>rage_quit_end</td>\n",
       "      <td>1756948473</td>\n",
       "      <td>1,756,948,473.00</td>\n",
       "      <td>0.00</td>\n",
       "    </tr>\n",
       "    <tr>\n",
       "      <th>15</th>\n",
       "      <td>enter_veto_deactivation</td>\n",
       "      <td>1756948473</td>\n",
       "      <td>1,757,207,673.00</td>\n",
       "      <td>3.00</td>\n",
       "    </tr>\n",
       "    <tr>\n",
       "      <th>16</th>\n",
       "      <td>enter_veto_cooldown</td>\n",
       "      <td>1757207673</td>\n",
       "      <td>1,757,225,673.00</td>\n",
       "      <td>0.21</td>\n",
       "    </tr>\n",
       "    <tr>\n",
       "      <th>17</th>\n",
       "      <td>enter_normal_state</td>\n",
       "      <td>1757225673</td>\n",
       "      <td>NaN</td>\n",
       "      <td>NaN</td>\n",
       "    </tr>\n",
       "  </tbody>\n",
       "</table>\n",
       "</div>"
      ],
      "text/plain": [
       "                      event   timestamp    end_timestamp  waiting_time\n",
       "0     enter_veto_signalling  1722639670 1,726,527,670.00         45.00\n",
       "1      convert_to_rage_quit  1726527670 1,729,632,470.00         35.94\n",
       "2             rage_quit_end  1729632470 1,729,632,470.00          0.00\n",
       "3     enter_veto_signalling  1729632470 1,733,520,470.00         45.00\n",
       "4      convert_to_rage_quit  1733520470 1,736,765,312.00         37.56\n",
       "5             rage_quit_end  1736765312 1,736,765,312.00          0.00\n",
       "6     enter_veto_signalling  1736765312 1,740,653,312.00         45.00\n",
       "7      convert_to_rage_quit  1740653312 1,743,391,445.00         31.69\n",
       "8             rage_quit_end  1743391445 1,743,391,445.00          0.00\n",
       "9     enter_veto_signalling  1743391445 1,747,279,445.00         45.00\n",
       "10     convert_to_rage_quit  1747279445 1,750,169,959.00         33.46\n",
       "11            rage_quit_end  1750169959 1,750,169,959.00          0.00\n",
       "12    enter_veto_signalling  1750169959 1,754,057,959.00         45.00\n",
       "13     convert_to_rage_quit  1754057959 1,756,948,473.00         33.46\n",
       "14            rage_quit_end  1756948473 1,756,948,473.00          0.00\n",
       "15  enter_veto_deactivation  1756948473 1,757,207,673.00          3.00\n",
       "16      enter_veto_cooldown  1757207673 1,757,225,673.00          0.21\n",
       "17       enter_normal_state  1757225673              NaN           NaN"
      ]
     },
     "execution_count": 22,
     "metadata": {},
     "output_type": "execute_result"
    }
   ],
   "source": [
    "DG_instance_1.reset_dg_instance()\n",
    "DG_instance_1.process_simulation(several_rage_quits)\n",
    "DG_instance_1.show_log()"
   ]
  },
  {
   "cell_type": "code",
   "execution_count": 23,
   "metadata": {},
   "outputs": [
    {
     "name": "stdout",
     "output_type": "stream",
     "text": [
      "Total waiting time is 400.30 days\n"
     ]
    }
   ],
   "source": [
    "DG_instance_1.show_total_waiting_time()"
   ]
  },
  {
   "cell_type": "code",
   "execution_count": 24,
   "metadata": {},
   "outputs": [
    {
     "name": "stdout",
     "output_type": "stream",
     "text": [
      "Rage quit 1 withdraw timelock is 60.00 days\n",
      "Rage quit 2 withdraw timelock is 60.00 days\n",
      "Rage quit 3 withdraw timelock is 62.00 days\n",
      "Rage quit 4 withdraw timelock is 68.00 days\n",
      "Rage quit 5 withdraw timelock is 78.00 days\n"
     ]
    }
   ],
   "source": [
    "DG_instance_1.show_rage_quit_withdraw_timelock()"
   ]
  },
  {
   "cell_type": "markdown",
   "metadata": {},
   "source": [
    "### Reactivation"
   ]
  },
  {
   "cell_type": "code",
   "execution_count": 25,
   "metadata": {},
   "outputs": [],
   "source": [
    "reactivation = DG.simulation(initial_st_eth,initial_others_staked_eth,0)\n",
    "reactivation.generate_events_flow(1722638400,1723156800+86400*365)"
   ]
  },
  {
   "cell_type": "code",
   "execution_count": 26,
   "metadata": {},
   "outputs": [],
   "source": [
    "reactivation.change_opposition_stETH_amount(70000,1722638570)\n",
    "reactivation.change_opposition_stETH_amount(50000,1722639670)\n",
    "reactivation.change_opposition_stETH_amount(130000,1722718680)\n",
    "reactivation.change_opposition_stETH_amount(50000,1723666570)\n",
    "reactivation.change_opposition_stETH_amount(-300000,1723925470)\n"
   ]
  },
  {
   "cell_type": "code",
   "execution_count": 28,
   "metadata": {},
   "outputs": [
    {
     "name": "stdout",
     "output_type": "stream",
     "text": [
      "Procesion finished\n"
     ]
    },
    {
     "data": {
      "text/html": [
       "<div>\n",
       "<style scoped>\n",
       "    .dataframe tbody tr th:only-of-type {\n",
       "        vertical-align: middle;\n",
       "    }\n",
       "\n",
       "    .dataframe tbody tr th {\n",
       "        vertical-align: top;\n",
       "    }\n",
       "\n",
       "    .dataframe thead th {\n",
       "        text-align: right;\n",
       "    }\n",
       "</style>\n",
       "<table border=\"1\" class=\"dataframe\">\n",
       "  <thead>\n",
       "    <tr style=\"text-align: right;\">\n",
       "      <th></th>\n",
       "      <th>event</th>\n",
       "      <th>timestamp</th>\n",
       "      <th>end_timestamp</th>\n",
       "      <th>waiting_time</th>\n",
       "    </tr>\n",
       "  </thead>\n",
       "  <tbody>\n",
       "    <tr>\n",
       "      <th>0</th>\n",
       "      <td>enter_veto_signalling</td>\n",
       "      <td>1722639670</td>\n",
       "      <td>1,723,666,370.00</td>\n",
       "      <td>11.88</td>\n",
       "    </tr>\n",
       "    <tr>\n",
       "      <th>1</th>\n",
       "      <td>enter_veto_deactivation</td>\n",
       "      <td>1723666370</td>\n",
       "      <td>1,723,666,570.00</td>\n",
       "      <td>0.00</td>\n",
       "    </tr>\n",
       "    <tr>\n",
       "      <th>2</th>\n",
       "      <td>enter_veto_reactivation</td>\n",
       "      <td>1723666570</td>\n",
       "      <td>1,723,925,470.00</td>\n",
       "      <td>3.00</td>\n",
       "    </tr>\n",
       "    <tr>\n",
       "      <th>3</th>\n",
       "      <td>enter_veto_deactivation</td>\n",
       "      <td>1723925470</td>\n",
       "      <td>1,724,184,670.00</td>\n",
       "      <td>3.00</td>\n",
       "    </tr>\n",
       "    <tr>\n",
       "      <th>4</th>\n",
       "      <td>enter_veto_cooldown</td>\n",
       "      <td>1724184670</td>\n",
       "      <td>1,724,202,670.00</td>\n",
       "      <td>0.21</td>\n",
       "    </tr>\n",
       "    <tr>\n",
       "      <th>5</th>\n",
       "      <td>enter_normal_state</td>\n",
       "      <td>1724202670</td>\n",
       "      <td>NaN</td>\n",
       "      <td>NaN</td>\n",
       "    </tr>\n",
       "  </tbody>\n",
       "</table>\n",
       "</div>"
      ],
      "text/plain": [
       "                     event   timestamp    end_timestamp  waiting_time\n",
       "0    enter_veto_signalling  1722639670 1,723,666,370.00         11.88\n",
       "1  enter_veto_deactivation  1723666370 1,723,666,570.00          0.00\n",
       "2  enter_veto_reactivation  1723666570 1,723,925,470.00          3.00\n",
       "3  enter_veto_deactivation  1723925470 1,724,184,670.00          3.00\n",
       "4      enter_veto_cooldown  1724184670 1,724,202,670.00          0.21\n",
       "5       enter_normal_state  1724202670              NaN           NaN"
      ]
     },
     "execution_count": 28,
     "metadata": {},
     "output_type": "execute_result"
    }
   ],
   "source": [
    "DG_instance_1.reset_dg_instance()\n",
    "DG_instance_1.process_simulation(reactivation)\n",
    "DG_instance_1.show_log()\n"
   ]
  },
  {
   "cell_type": "code",
   "execution_count": 29,
   "metadata": {},
   "outputs": [
    {
     "name": "stdout",
     "output_type": "stream",
     "text": [
      "Total waiting time is 18.09 days\n"
     ]
    }
   ],
   "source": [
    "DG_instance_1.show_total_waiting_time()"
   ]
  },
  {
   "cell_type": "markdown",
   "metadata": {},
   "source": [
    "### Infinite loop"
   ]
  },
  {
   "cell_type": "code",
   "execution_count": 30,
   "metadata": {},
   "outputs": [],
   "source": [
    "infinite_loop=DG.simulation(initial_st_eth,initial_others_staked_eth,0)\n",
    "infinite_loop.generate_events_flow(1722638400,1723156800+86400*365)"
   ]
  },
  {
   "cell_type": "code",
   "execution_count": 31,
   "metadata": {},
   "outputs": [],
   "source": [
    "infinite_loop.change_opposition_stETH_amount(70000,1722638570)\n",
    "infinite_loop.change_opposition_stETH_amount(50000,1722639670)\n",
    "infinite_loop.change_opposition_stETH_amount(130000,1722718680)\n",
    "#happy_path.change_opposition_stETH_amount(-250000,1723666372)"
   ]
  },
  {
   "cell_type": "code",
   "execution_count": 32,
   "metadata": {},
   "outputs": [
    {
     "ename": "IndexError",
     "evalue": "Event timestamp are out of simulation bounds",
     "output_type": "error",
     "traceback": [
      "\u001b[1;31m---------------------------------------------------------------------------\u001b[0m",
      "\u001b[1;31mIndexError\u001b[0m                                Traceback (most recent call last)",
      "File \u001b[1;32mc:\\Users\\Greg\\Lido\\Dual Governance model\\DGmodel.py:224\u001b[0m, in \u001b[0;36msimulation.find_row\u001b[1;34m(self, timestamp)\u001b[0m\n\u001b[0;32m    223\u001b[0m \u001b[38;5;28;01mtry\u001b[39;00m:\n\u001b[1;32m--> 224\u001b[0m     \u001b[38;5;28;01mreturn\u001b[39;00m \u001b[38;5;28mint\u001b[39m(\u001b[38;5;28;43mself\u001b[39;49m\u001b[38;5;241;43m.\u001b[39;49m\u001b[43mevents_flow\u001b[49m\u001b[43m[\u001b[49m\u001b[43m(\u001b[49m\u001b[38;5;28;43mself\u001b[39;49m\u001b[38;5;241;43m.\u001b[39;49m\u001b[43mevents_flow\u001b[49m\u001b[43m[\u001b[49m\u001b[38;5;124;43m'\u001b[39;49m\u001b[38;5;124;43mstart_timestamp\u001b[39;49m\u001b[38;5;124;43m'\u001b[39;49m\u001b[43m]\u001b[49m\u001b[43m \u001b[49m\u001b[38;5;241;43m<\u001b[39;49m\u001b[38;5;241;43m=\u001b[39;49m\u001b[43m \u001b[49m\u001b[43mtimestamp\u001b[49m\u001b[43m)\u001b[49m\u001b[43m \u001b[49m\u001b[38;5;241;43m&\u001b[39;49m\u001b[43m \u001b[49m\u001b[43m(\u001b[49m\u001b[38;5;28;43mself\u001b[39;49m\u001b[38;5;241;43m.\u001b[39;49m\u001b[43mevents_flow\u001b[49m\u001b[43m[\u001b[49m\u001b[38;5;124;43m'\u001b[39;49m\u001b[38;5;124;43mend_timestamp\u001b[39;49m\u001b[38;5;124;43m'\u001b[39;49m\u001b[43m]\u001b[49m\u001b[43m \u001b[49m\u001b[38;5;241;43m>\u001b[39;49m\u001b[38;5;241;43m=\u001b[39;49m\u001b[43m \u001b[49m\u001b[43mtimestamp\u001b[49m\u001b[43m)\u001b[49m\u001b[43m]\u001b[49m\u001b[38;5;241;43m.\u001b[39;49m\u001b[43mindex\u001b[49m\u001b[43m[\u001b[49m\u001b[38;5;241;43m0\u001b[39;49m\u001b[43m]\u001b[49m)\n\u001b[0;32m    225\u001b[0m \u001b[38;5;28;01mexcept\u001b[39;00m \u001b[38;5;167;01mIndexError\u001b[39;00m:\n",
      "File \u001b[1;32m~\\AppData\\Local\\Packages\\PythonSoftwareFoundation.Python.3.11_qbz5n2kfra8p0\\LocalCache\\local-packages\\Python311\\site-packages\\pandas\\core\\indexes\\base.py:5389\u001b[0m, in \u001b[0;36mIndex.__getitem__\u001b[1;34m(self, key)\u001b[0m\n\u001b[0;32m   5388\u001b[0m     key \u001b[38;5;241m=\u001b[39m com\u001b[38;5;241m.\u001b[39mcast_scalar_indexer(key)\n\u001b[1;32m-> 5389\u001b[0m     \u001b[38;5;28;01mreturn\u001b[39;00m \u001b[43mgetitem\u001b[49m\u001b[43m(\u001b[49m\u001b[43mkey\u001b[49m\u001b[43m)\u001b[49m\n\u001b[0;32m   5391\u001b[0m \u001b[38;5;28;01mif\u001b[39;00m \u001b[38;5;28misinstance\u001b[39m(key, \u001b[38;5;28mslice\u001b[39m):\n\u001b[0;32m   5392\u001b[0m     \u001b[38;5;66;03m# This case is separated from the conditional above to avoid\u001b[39;00m\n\u001b[0;32m   5393\u001b[0m     \u001b[38;5;66;03m# pessimization com.is_bool_indexer and ndim checks.\u001b[39;00m\n",
      "\u001b[1;31mIndexError\u001b[0m: index 0 is out of bounds for axis 0 with size 0",
      "\nDuring handling of the above exception, another exception occurred:\n",
      "\u001b[1;31mIndexError\u001b[0m                                Traceback (most recent call last)",
      "Cell \u001b[1;32mIn[32], line 2\u001b[0m\n\u001b[0;32m      1\u001b[0m DG_instance_1\u001b[38;5;241m.\u001b[39mreset_dg_instance()\n\u001b[1;32m----> 2\u001b[0m \u001b[43mDG_instance_1\u001b[49m\u001b[38;5;241;43m.\u001b[39;49m\u001b[43mprocess_simulation\u001b[49m\u001b[43m(\u001b[49m\u001b[43minfinite_loop\u001b[49m\u001b[43m)\u001b[49m\n",
      "File \u001b[1;32mc:\\Users\\Greg\\Lido\\Dual Governance model\\DGmodel.py:158\u001b[0m, in \u001b[0;36mDG_instance.process_simulation\u001b[1;34m(self, simulation)\u001b[0m\n\u001b[0;32m    156\u001b[0m    \u001b[38;5;28mself\u001b[39m\u001b[38;5;241m.\u001b[39mcurrent_state \u001b[38;5;241m=\u001b[39m \u001b[38;5;124m'\u001b[39m\u001b[38;5;124mveto_signalling\u001b[39m\u001b[38;5;124m'\u001b[39m\n\u001b[0;32m    157\u001b[0m    \u001b[38;5;28mself\u001b[39m\u001b[38;5;241m.\u001b[39mlast_veto_signalling_start \u001b[38;5;241m=\u001b[39m events_flow[event_num][\u001b[38;5;124m'\u001b[39m\u001b[38;5;124mtimestamp\u001b[39m\u001b[38;5;124m'\u001b[39m]\n\u001b[1;32m--> 158\u001b[0m    \u001b[43msimulation\u001b[49m\u001b[38;5;241;43m.\u001b[39;49m\u001b[43madd_event\u001b[49m\u001b[43m(\u001b[49m\u001b[43m{\u001b[49m\u001b[38;5;124;43m'\u001b[39;49m\u001b[38;5;124;43mtimestamp\u001b[39;49m\u001b[38;5;124;43m'\u001b[39;49m\u001b[43m:\u001b[49m\u001b[43m \u001b[49m\u001b[43mevents_flow\u001b[49m\u001b[43m[\u001b[49m\u001b[43mevent_num\u001b[49m\u001b[43m]\u001b[49m\u001b[43m[\u001b[49m\u001b[38;5;124;43m'\u001b[39;49m\u001b[38;5;124;43mtimestamp\u001b[39;49m\u001b[38;5;124;43m'\u001b[39;49m\u001b[43m]\u001b[49m\u001b[38;5;241;43m+\u001b[39;49m\u001b[38;5;28;43mself\u001b[39;49m\u001b[38;5;241;43m.\u001b[39;49m\u001b[43mveto_signalling_duration\u001b[49m\u001b[43m,\u001b[49m\u001b[43m \u001b[49m\u001b[38;5;124;43m'\u001b[39;49m\u001b[38;5;124;43mmethod\u001b[39;49m\u001b[38;5;124;43m'\u001b[39;49m\u001b[43m:\u001b[49m\u001b[43m \u001b[49m\u001b[38;5;124;43m'\u001b[39;49m\u001b[38;5;124;43msignalling_end\u001b[39;49m\u001b[38;5;124;43m'\u001b[39;49m\u001b[43m,\u001b[49m\u001b[38;5;124;43m'\u001b[39;49m\u001b[38;5;124;43mamount\u001b[39;49m\u001b[38;5;124;43m'\u001b[39;49m\u001b[43m:\u001b[49m\u001b[38;5;241;43m0\u001b[39;49m\u001b[43m}\u001b[49m\u001b[43m)\u001b[49m\n\u001b[0;32m    159\u001b[0m    \u001b[38;5;28mself\u001b[39m\u001b[38;5;241m.\u001b[39mlog\u001b[38;5;241m.\u001b[39mappend({\u001b[38;5;124m'\u001b[39m\u001b[38;5;124mevent\u001b[39m\u001b[38;5;124m'\u001b[39m: \u001b[38;5;124m'\u001b[39m\u001b[38;5;124menter_veto_signalling\u001b[39m\u001b[38;5;124m'\u001b[39m, \u001b[38;5;124m'\u001b[39m\u001b[38;5;124mtimestamp\u001b[39m\u001b[38;5;124m'\u001b[39m: events_flow[event_num][\u001b[38;5;124m'\u001b[39m\u001b[38;5;124mtimestamp\u001b[39m\u001b[38;5;124m'\u001b[39m]})\n\u001b[0;32m    161\u001b[0m \u001b[38;5;66;03m#Cooldown -> Normal transition\u001b[39;00m\n",
      "File \u001b[1;32mc:\\Users\\Greg\\Lido\\Dual Governance model\\DGmodel.py:247\u001b[0m, in \u001b[0;36msimulation.add_event\u001b[1;34m(self, event)\u001b[0m\n\u001b[0;32m    246\u001b[0m \u001b[38;5;28;01mdef\u001b[39;00m \u001b[38;5;21madd_event\u001b[39m(\u001b[38;5;28mself\u001b[39m,event):\n\u001b[1;32m--> 247\u001b[0m     row \u001b[38;5;241m=\u001b[39m \u001b[38;5;28;43mself\u001b[39;49m\u001b[38;5;241;43m.\u001b[39;49m\u001b[43mfind_row\u001b[49m\u001b[43m(\u001b[49m\u001b[43mevent\u001b[49m\u001b[43m[\u001b[49m\u001b[38;5;124;43m'\u001b[39;49m\u001b[38;5;124;43mtimestamp\u001b[39;49m\u001b[38;5;124;43m'\u001b[39;49m\u001b[43m]\u001b[49m\u001b[43m)\u001b[49m\n\u001b[0;32m    248\u001b[0m     \u001b[38;5;28mself\u001b[39m\u001b[38;5;241m.\u001b[39mevents_flow\u001b[38;5;241m.\u001b[39miloc[row,\u001b[38;5;241m2\u001b[39m]\u001b[38;5;241m.\u001b[39mappend(event)\n",
      "File \u001b[1;32mc:\\Users\\Greg\\Lido\\Dual Governance model\\DGmodel.py:226\u001b[0m, in \u001b[0;36msimulation.find_row\u001b[1;34m(self, timestamp)\u001b[0m\n\u001b[0;32m    224\u001b[0m     \u001b[38;5;28;01mreturn\u001b[39;00m \u001b[38;5;28mint\u001b[39m(\u001b[38;5;28mself\u001b[39m\u001b[38;5;241m.\u001b[39mevents_flow[(\u001b[38;5;28mself\u001b[39m\u001b[38;5;241m.\u001b[39mevents_flow[\u001b[38;5;124m'\u001b[39m\u001b[38;5;124mstart_timestamp\u001b[39m\u001b[38;5;124m'\u001b[39m] \u001b[38;5;241m<\u001b[39m\u001b[38;5;241m=\u001b[39m timestamp) \u001b[38;5;241m&\u001b[39m (\u001b[38;5;28mself\u001b[39m\u001b[38;5;241m.\u001b[39mevents_flow[\u001b[38;5;124m'\u001b[39m\u001b[38;5;124mend_timestamp\u001b[39m\u001b[38;5;124m'\u001b[39m] \u001b[38;5;241m>\u001b[39m\u001b[38;5;241m=\u001b[39m timestamp)]\u001b[38;5;241m.\u001b[39mindex[\u001b[38;5;241m0\u001b[39m])\n\u001b[0;32m    225\u001b[0m \u001b[38;5;28;01mexcept\u001b[39;00m \u001b[38;5;167;01mIndexError\u001b[39;00m:\n\u001b[1;32m--> 226\u001b[0m     \u001b[38;5;28;01mraise\u001b[39;00m \u001b[38;5;167;01mIndexError\u001b[39;00m (\u001b[38;5;124m\"\u001b[39m\u001b[38;5;124mEvent timestamp are out of simulation bounds\u001b[39m\u001b[38;5;124m\"\u001b[39m)\n",
      "\u001b[1;31mIndexError\u001b[0m: Event timestamp are out of simulation bounds"
     ]
    }
   ],
   "source": [
    "DG_instance_1.reset_dg_instance()\n",
    "DG_instance_1.process_simulation(infinite_loop)\n"
   ]
  },
  {
   "cell_type": "code",
   "execution_count": 33,
   "metadata": {},
   "outputs": [
    {
     "data": {
      "text/html": [
       "<div>\n",
       "<style scoped>\n",
       "    .dataframe tbody tr th:only-of-type {\n",
       "        vertical-align: middle;\n",
       "    }\n",
       "\n",
       "    .dataframe tbody tr th {\n",
       "        vertical-align: top;\n",
       "    }\n",
       "\n",
       "    .dataframe thead th {\n",
       "        text-align: right;\n",
       "    }\n",
       "</style>\n",
       "<table border=\"1\" class=\"dataframe\">\n",
       "  <thead>\n",
       "    <tr style=\"text-align: right;\">\n",
       "      <th></th>\n",
       "      <th>event</th>\n",
       "      <th>timestamp</th>\n",
       "      <th>end_timestamp</th>\n",
       "      <th>waiting_time</th>\n",
       "    </tr>\n",
       "  </thead>\n",
       "  <tbody>\n",
       "    <tr>\n",
       "      <th>0</th>\n",
       "      <td>enter_veto_signalling</td>\n",
       "      <td>1722639670</td>\n",
       "      <td>1,723,666,370.00</td>\n",
       "      <td>11.88</td>\n",
       "    </tr>\n",
       "    <tr>\n",
       "      <th>1</th>\n",
       "      <td>enter_veto_deactivation</td>\n",
       "      <td>1723666370</td>\n",
       "      <td>1,723,925,570.00</td>\n",
       "      <td>3.00</td>\n",
       "    </tr>\n",
       "    <tr>\n",
       "      <th>2</th>\n",
       "      <td>enter_veto_cooldown</td>\n",
       "      <td>1723925570</td>\n",
       "      <td>1,723,943,570.00</td>\n",
       "      <td>0.21</td>\n",
       "    </tr>\n",
       "    <tr>\n",
       "      <th>3</th>\n",
       "      <td>enter_veto_signalling</td>\n",
       "      <td>1723943570</td>\n",
       "      <td>1,724,970,270.00</td>\n",
       "      <td>11.88</td>\n",
       "    </tr>\n",
       "    <tr>\n",
       "      <th>4</th>\n",
       "      <td>enter_veto_deactivation</td>\n",
       "      <td>1724970270</td>\n",
       "      <td>1,725,229,470.00</td>\n",
       "      <td>3.00</td>\n",
       "    </tr>\n",
       "    <tr>\n",
       "      <th>...</th>\n",
       "      <td>...</td>\n",
       "      <td>...</td>\n",
       "      <td>...</td>\n",
       "      <td>...</td>\n",
       "    </tr>\n",
       "    <tr>\n",
       "      <th>67</th>\n",
       "      <td>enter_veto_deactivation</td>\n",
       "      <td>1752352170</td>\n",
       "      <td>1,752,611,370.00</td>\n",
       "      <td>3.00</td>\n",
       "    </tr>\n",
       "    <tr>\n",
       "      <th>68</th>\n",
       "      <td>enter_veto_cooldown</td>\n",
       "      <td>1752611370</td>\n",
       "      <td>1,752,629,370.00</td>\n",
       "      <td>0.21</td>\n",
       "    </tr>\n",
       "    <tr>\n",
       "      <th>69</th>\n",
       "      <td>enter_veto_signalling</td>\n",
       "      <td>1752629370</td>\n",
       "      <td>1,753,656,070.00</td>\n",
       "      <td>11.88</td>\n",
       "    </tr>\n",
       "    <tr>\n",
       "      <th>70</th>\n",
       "      <td>enter_veto_deactivation</td>\n",
       "      <td>1753656070</td>\n",
       "      <td>1,753,915,270.00</td>\n",
       "      <td>3.00</td>\n",
       "    </tr>\n",
       "    <tr>\n",
       "      <th>71</th>\n",
       "      <td>enter_veto_cooldown</td>\n",
       "      <td>1753915270</td>\n",
       "      <td>NaN</td>\n",
       "      <td>NaN</td>\n",
       "    </tr>\n",
       "  </tbody>\n",
       "</table>\n",
       "<p>72 rows × 4 columns</p>\n",
       "</div>"
      ],
      "text/plain": [
       "                      event   timestamp    end_timestamp  waiting_time\n",
       "0     enter_veto_signalling  1722639670 1,723,666,370.00         11.88\n",
       "1   enter_veto_deactivation  1723666370 1,723,925,570.00          3.00\n",
       "2       enter_veto_cooldown  1723925570 1,723,943,570.00          0.21\n",
       "3     enter_veto_signalling  1723943570 1,724,970,270.00         11.88\n",
       "4   enter_veto_deactivation  1724970270 1,725,229,470.00          3.00\n",
       "..                      ...         ...              ...           ...\n",
       "67  enter_veto_deactivation  1752352170 1,752,611,370.00          3.00\n",
       "68      enter_veto_cooldown  1752611370 1,752,629,370.00          0.21\n",
       "69    enter_veto_signalling  1752629370 1,753,656,070.00         11.88\n",
       "70  enter_veto_deactivation  1753656070 1,753,915,270.00          3.00\n",
       "71      enter_veto_cooldown  1753915270              NaN           NaN\n",
       "\n",
       "[72 rows x 4 columns]"
      ]
     },
     "execution_count": 33,
     "metadata": {},
     "output_type": "execute_result"
    }
   ],
   "source": [
    "DG_instance_1.show_log()"
   ]
  }
 ],
 "metadata": {
  "kernelspec": {
   "display_name": "Python 3",
   "language": "python",
   "name": "python3"
  },
  "language_info": {
   "codemirror_mode": {
    "name": "ipython",
    "version": 3
   },
   "file_extension": ".py",
   "mimetype": "text/x-python",
   "name": "python",
   "nbconvert_exporter": "python",
   "pygments_lexer": "ipython3",
   "version": "3.11.9"
  }
 },
 "nbformat": 4,
 "nbformat_minor": 0
}
